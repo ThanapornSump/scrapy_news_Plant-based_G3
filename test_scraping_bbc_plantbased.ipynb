{
 "cells": [
  {
   "cell_type": "code",
   "execution_count": 15,
   "metadata": {},
   "outputs": [],
   "source": [
    "import bs4\n",
    "import pandas as pd\n",
    "import requests"
   ]
  },
  {
   "cell_type": "code",
   "execution_count": 16,
   "metadata": {},
   "outputs": [
    {
     "name": "stdout",
     "output_type": "stream",
     "text": [
      "Complete Page :  1\n",
      "Complete Page :  2\n",
      "Complete Page :  3\n",
      "Complete Page :  4\n",
      "Complete Page :  5\n",
      "Complete Page :  6\n",
      "Complete Page :  7\n",
      "Complete Page :  8\n",
      "Complete Page :  9\n",
      "Complete Page :  10\n",
      "Complete Page :  11\n",
      "Complete Page :  12\n",
      "Complete Page :  13\n",
      "Complete Page :  14\n",
      "Complete Page :  15\n",
      "Complete Page :  16\n",
      "Complete Page :  17\n",
      "Complete Page :  18\n",
      "Complete Page :  19\n",
      "Complete Page :  20\n"
     ]
    },
    {
     "data": {
      "text/html": [
       "<div>\n",
       "<style scoped>\n",
       "    .dataframe tbody tr th:only-of-type {\n",
       "        vertical-align: middle;\n",
       "    }\n",
       "\n",
       "    .dataframe tbody tr th {\n",
       "        vertical-align: top;\n",
       "    }\n",
       "\n",
       "    .dataframe thead th {\n",
       "        text-align: right;\n",
       "    }\n",
       "</style>\n",
       "<table border=\"1\" class=\"dataframe\">\n",
       "  <thead>\n",
       "    <tr style=\"text-align: right;\">\n",
       "      <th></th>\n",
       "      <th>Description</th>\n",
       "      <th>Date</th>\n",
       "    </tr>\n",
       "    <tr>\n",
       "      <th>Heading</th>\n",
       "      <th></th>\n",
       "      <th></th>\n",
       "    </tr>\n",
       "  </thead>\n",
       "  <tbody>\n",
       "    <tr>\n",
       "      <th>Plant Based Promises</th>\n",
       "      <td>The science behind plant-based diets and produ...</td>\n",
       "      <td>Programmes</td>\n",
       "    </tr>\n",
       "    <tr>\n",
       "      <th>The Climate Question: How green are plant-based foods?</th>\n",
       "      <td>Stories on why we find it so hard to save our ...</td>\n",
       "      <td>in 22 days</td>\n",
       "    </tr>\n",
       "    <tr>\n",
       "      <th>All Consuming: Plant-based Meats</th>\n",
       "      <td>Charlotte Williams sinks her teeth into a surp...</td>\n",
       "      <td>22 September</td>\n",
       "    </tr>\n",
       "    <tr>\n",
       "      <th>Doctor urges Lancaster City Council to only use plant-based foods</th>\n",
       "      <td>The doctor, speaking during public questions, ...</td>\n",
       "      <td>18 August</td>\n",
       "    </tr>\n",
       "    <tr>\n",
       "      <th>Discovery: Plant based promises and sustainability</th>\n",
       "      <td>Giles Yeo looks at the sustainability of plant...</td>\n",
       "      <td>1 August</td>\n",
       "    </tr>\n",
       "    <tr>\n",
       "      <th>...</th>\n",
       "      <td>...</td>\n",
       "      <td>...</td>\n",
       "    </tr>\n",
       "    <tr>\n",
       "      <th>Horse Guards Parade: Man with knife did not plan to use it, court hears</th>\n",
       "      <td>Prashanth Kandhaiah tells court he had no inte...</td>\n",
       "      <td>19 October</td>\n",
       "    </tr>\n",
       "    <tr>\n",
       "      <th>Deloitte buys Belfast-based IT company Etain</th>\n",
       "      <td>Deloitte says the deal will double the size of...</td>\n",
       "      <td>9 February</td>\n",
       "    </tr>\n",
       "    <tr>\n",
       "      <th>How is growth controlled in plants? - OCR 21st Century</th>\n",
       "      <td>Revise plant growth for OCR 21st Century with ...</td>\n",
       "      <td>10 October</td>\n",
       "    </tr>\n",
       "    <tr>\n",
       "      <th>Plant disease - OCR Gateway</th>\n",
       "      <td>Learn about the four main types of pathogen wh...</td>\n",
       "      <td>14 October</td>\n",
       "    </tr>\n",
       "    <tr>\n",
       "      <th>Brazil v Argentina: Fifa ban three Premier League-based players over abandoned match</th>\n",
       "      <td>Fifa have banned four Argentina players - thre...</td>\n",
       "      <td>14 February</td>\n",
       "    </tr>\n",
       "  </tbody>\n",
       "</table>\n",
       "<p>200 rows × 2 columns</p>\n",
       "</div>"
      ],
      "text/plain": [
       "                                                                                          Description  \\\n",
       "Heading                                                                                                 \n",
       "Plant Based Promises                                The science behind plant-based diets and produ...   \n",
       "The Climate Question: How green are plant-based...  Stories on why we find it so hard to save our ...   \n",
       "All Consuming: Plant-based Meats                    Charlotte Williams sinks her teeth into a surp...   \n",
       "Doctor urges Lancaster City Council to only use...  The doctor, speaking during public questions, ...   \n",
       "Discovery: Plant based promises and sustainability  Giles Yeo looks at the sustainability of plant...   \n",
       "...                                                                                               ...   \n",
       "Horse Guards Parade: Man with knife did not pla...  Prashanth Kandhaiah tells court he had no inte...   \n",
       "Deloitte buys Belfast-based IT company Etain        Deloitte says the deal will double the size of...   \n",
       "How is growth controlled in plants? - OCR 21st ...  Revise plant growth for OCR 21st Century with ...   \n",
       "Plant disease - OCR Gateway                         Learn about the four main types of pathogen wh...   \n",
       "Brazil v Argentina: Fifa ban three Premier Leag...  Fifa have banned four Argentina players - thre...   \n",
       "\n",
       "                                                            Date  \n",
       "Heading                                                           \n",
       "Plant Based Promises                                  Programmes  \n",
       "The Climate Question: How green are plant-based...    in 22 days  \n",
       "All Consuming: Plant-based Meats                    22 September  \n",
       "Doctor urges Lancaster City Council to only use...     18 August  \n",
       "Discovery: Plant based promises and sustainability      1 August  \n",
       "...                                                          ...  \n",
       "Horse Guards Parade: Man with knife did not pla...    19 October  \n",
       "Deloitte buys Belfast-based IT company Etain          9 February  \n",
       "How is growth controlled in plants? - OCR 21st ...    10 October  \n",
       "Plant disease - OCR Gateway                           14 October  \n",
       "Brazil v Argentina: Fifa ban three Premier Leag...   14 February  \n",
       "\n",
       "[200 rows x 2 columns]"
      ]
     },
     "execution_count": 16,
     "metadata": {},
     "output_type": "execute_result"
    }
   ],
   "source": [
    "page = 1\n",
    "heading = []\n",
    "description = []\n",
    "date =[]\n",
    "while page <= 20:\n",
    "    data = requests.get('https://www.bbc.co.uk/search?q=plant+based&page=' + str(page))\n",
    "    soup = bs4.BeautifulSoup(data.text)\n",
    "    for c in soup.find_all('div',{'class':\"ssrcss-11rb3jo-Promo ett16tt0\"}):\n",
    "        heading.append(c.find('div',{'class':\"ssrcss-1f3bvyz-Stack e1y4nx260\"}).find('a').text)\n",
    "        description.append(c.find('p',{'class':\"ssrcss-1q0x1qg-Paragraph eq5iqo00\"}).text)\n",
    "        date.append(c.find('span',{'class':\"ssrcss-1pvwv4b-MetadataSnippet ecn1o5v3\"}).text)\n",
    "    print('Complete Page : ', page)\n",
    "    page += 1\n",
    "df = pd.DataFrame([heading, description, date]).transpose()\n",
    "df.columns = ['Heading', 'Description', 'Date']\n",
    "df.set_index('Heading')"
   ]
  },
  {
   "cell_type": "code",
   "execution_count": 17,
   "metadata": {},
   "outputs": [],
   "source": [
    "df.to_csv('news_plantbases.csv',encoding=\"utf-8-sig\", index=False)"
   ]
  },
  {
   "cell_type": "markdown",
   "metadata": {},
   "source": [
    "# Upload data to DataPlatform"
   ]
  },
  {
   "cell_type": "code",
   "execution_count": null,
   "metadata": {},
   "outputs": [],
   "source": [
    "from dsmlibrary.datanode import DataNode"
   ]
  },
  {
   "cell_type": "code",
   "execution_count": null,
   "metadata": {},
   "outputs": [],
   "source": [
    "dir_raw_id = 85"
   ]
  },
  {
   "cell_type": "code",
   "execution_count": null,
   "metadata": {},
   "outputs": [],
   "source": [
    "datanode = DataNode()"
   ]
  },
  {
   "cell_type": "code",
   "execution_count": null,
   "metadata": {},
   "outputs": [],
   "source": [
    "datanode.upload_file(directory_id=dir_raw_id, file_path='news_plantbases.csv')"
   ]
  }
 ],
 "metadata": {
  "kernelspec": {
   "display_name": "Python 3.9.7 64-bit",
   "language": "python",
   "name": "python3"
  },
  "language_info": {
   "codemirror_mode": {
    "name": "ipython",
    "version": 3
   },
   "file_extension": ".py",
   "mimetype": "text/x-python",
   "name": "python",
   "nbconvert_exporter": "python",
   "pygments_lexer": "ipython3",
   "version": "3.9.7"
  },
  "vscode": {
   "interpreter": {
    "hash": "aee8b7b246df8f9039afb4144a1f6fd8d2ca17a180786b69acc140d282b71a49"
   }
  }
 },
 "nbformat": 4,
 "nbformat_minor": 4
}
